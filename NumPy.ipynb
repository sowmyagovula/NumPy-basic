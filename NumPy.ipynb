{
 "cells": [
  {
   "cell_type": "code",
   "execution_count": 1,
   "id": "71a3fc17-93ca-4f5b-a7d4-d404da177d42",
   "metadata": {},
   "outputs": [],
   "source": [
    "import numpy as np"
   ]
  },
  {
   "cell_type": "code",
   "execution_count": 24,
   "id": "7189ab93-1255-4d4d-8215-182561394cbb",
   "metadata": {},
   "outputs": [
    {
     "name": "stdout",
     "output_type": "stream",
     "text": [
      "[2 3 4 5]\n"
     ]
    }
   ],
   "source": [
    "# 1D Array using NumPy\n",
    "a = np.array([2,3,4,5])\n",
    "print(a)"
   ]
  },
  {
   "cell_type": "code",
   "execution_count": 25,
   "id": "2fb1c30e-31e1-4a32-b51e-92863374c0b5",
   "metadata": {},
   "outputs": [
    {
     "name": "stdout",
     "output_type": "stream",
     "text": [
      "[[2 3 4 9]\n",
      " [5 6 9 7]]\n"
     ]
    }
   ],
   "source": [
    "# 2D Array using NumPy\n",
    "b = np.array([[2,3,4,9],[5,6,9,7]])\n",
    "print(b)"
   ]
  },
  {
   "cell_type": "code",
   "execution_count": 19,
   "id": "a0e5630e-e6ac-49c8-9906-4144af2f8f39",
   "metadata": {},
   "outputs": [
    {
     "data": {
      "text/plain": [
       "2"
      ]
     },
     "execution_count": 19,
     "metadata": {},
     "output_type": "execute_result"
    }
   ],
   "source": [
    "# Get Dimensions\n",
    "b.ndim"
   ]
  },
  {
   "cell_type": "code",
   "execution_count": 26,
   "id": "4134d183-af22-42cd-b941-a09c9c5d906f",
   "metadata": {},
   "outputs": [
    {
     "data": {
      "text/plain": [
       "(2, 4)"
      ]
     },
     "execution_count": 26,
     "metadata": {},
     "output_type": "execute_result"
    }
   ],
   "source": [
    "# Get Shape of array\n",
    "b.shape"
   ]
  },
  {
   "cell_type": "code",
   "execution_count": 22,
   "id": "6a35084d-a8ce-4cae-a586-237b09e95771",
   "metadata": {},
   "outputs": [
    {
     "data": {
      "text/plain": [
       "dtype('int64')"
      ]
     },
     "execution_count": 22,
     "metadata": {},
     "output_type": "execute_result"
    }
   ],
   "source": [
    "# Get Datatype\n",
    "b.dtype"
   ]
  },
  {
   "cell_type": "code",
   "execution_count": 30,
   "id": "e55fa89a-e30e-4ce8-aa00-799e1778cb9e",
   "metadata": {},
   "outputs": [
    {
     "name": "stdout",
     "output_type": "stream",
     "text": [
      "[7 9 2 5]\n"
     ]
    }
   ],
   "source": [
    "# We can also specify datatype while creating array\n",
    "c = np.array([7,9,2,5],dtype = 'int16')\n",
    "print(c)"
   ]
  },
  {
   "cell_type": "code",
   "execution_count": 31,
   "id": "5a97fef0-cb68-46e2-99f6-3a7b05431da4",
   "metadata": {},
   "outputs": [
    {
     "data": {
      "text/plain": [
       "dtype('int16')"
      ]
     },
     "execution_count": 31,
     "metadata": {},
     "output_type": "execute_result"
    }
   ],
   "source": [
    "c.dtype"
   ]
  },
  {
   "cell_type": "code",
   "execution_count": 34,
   "id": "fecb4447-9ad5-46d4-96ef-98670b91fc90",
   "metadata": {},
   "outputs": [
    {
     "data": {
      "text/plain": [
       "2"
      ]
     },
     "execution_count": 34,
     "metadata": {},
     "output_type": "execute_result"
    }
   ],
   "source": [
    "# size in bytes\n",
    "c.itemsize"
   ]
  },
  {
   "cell_type": "code",
   "execution_count": 45,
   "id": "eb9d9380-4750-435e-959d-c87733be1959",
   "metadata": {},
   "outputs": [
    {
     "data": {
      "text/plain": [
       "4"
      ]
     },
     "execution_count": 45,
     "metadata": {},
     "output_type": "execute_result"
    }
   ],
   "source": [
    "# size of elements\n",
    "c.size"
   ]
  },
  {
   "cell_type": "code",
   "execution_count": 42,
   "id": "f9ea67e3-a6c5-4e24-a600-4c60858bb899",
   "metadata": {},
   "outputs": [
    {
     "data": {
      "text/plain": [
       "8"
      ]
     },
     "execution_count": 42,
     "metadata": {},
     "output_type": "execute_result"
    }
   ],
   "source": [
    "# total size\n",
    "c.size*c.itemsize"
   ]
  },
  {
   "cell_type": "code",
   "execution_count": 44,
   "id": "f4452d39-0c05-45d6-a7ea-a72a490ddc13",
   "metadata": {},
   "outputs": [
    {
     "data": {
      "text/plain": [
       "8"
      ]
     },
     "execution_count": 44,
     "metadata": {},
     "output_type": "execute_result"
    }
   ],
   "source": [
    "# total size\n",
    "c.nbytes"
   ]
  },
  {
   "cell_type": "markdown",
   "id": "9aa4f3f7-8b14-4078-9f90-6f576d8031d2",
   "metadata": {},
   "source": [
    "### Accessing or changing elements in row, columns\n"
   ]
  },
  {
   "cell_type": "code",
   "execution_count": 48,
   "id": "2a0ff388-7179-45ef-b41c-368669420c7a",
   "metadata": {},
   "outputs": [
    {
     "name": "stdout",
     "output_type": "stream",
     "text": [
      "[[ 2 12 16 18 20 26 32]\n",
      " [30  8 45 17 20 60 62]]\n"
     ]
    }
   ],
   "source": [
    "a = np.array([[2,12,16,18,20,26,32],[30,8,45,17,20,60,62]])\n",
    "print(a)"
   ]
  },
  {
   "cell_type": "code",
   "execution_count": 56,
   "id": "bc2dd028-5082-46ce-b1ee-1f0ad492ebf2",
   "metadata": {},
   "outputs": [
    {
     "name": "stdout",
     "output_type": "stream",
     "text": [
      "60\n"
     ]
    }
   ],
   "source": [
    "# Get specific element [R, C]\n",
    "print(a[1,5])"
   ]
  },
  {
   "cell_type": "code",
   "execution_count": 57,
   "id": "f67ee1cb-b259-4361-bd52-f42ba08adb04",
   "metadata": {},
   "outputs": [
    {
     "name": "stdout",
     "output_type": "stream",
     "text": [
      "[ 2 12 16 18 20 26 32]\n"
     ]
    }
   ],
   "source": [
    "# get specific row\n",
    "print(a[0,:])"
   ]
  },
  {
   "cell_type": "code",
   "execution_count": 58,
   "id": "25c4a47b-bf34-4af1-bcef-7babb881bf8a",
   "metadata": {},
   "outputs": [
    {
     "name": "stdout",
     "output_type": "stream",
     "text": [
      "[20 20]\n"
     ]
    }
   ],
   "source": [
    "# get specific column\n",
    "print(a[:,4])"
   ]
  },
  {
   "cell_type": "code",
   "execution_count": 68,
   "id": "5ee00101-30d8-4dc2-96b2-f9b2f9f8821e",
   "metadata": {},
   "outputs": [
    {
     "name": "stdout",
     "output_type": "stream",
     "text": [
      "[12 18 26]\n"
     ]
    }
   ],
   "source": [
    "# Getting a part [start:end:stepsize]\n",
    "print(a[0,1:6:2])"
   ]
  },
  {
   "cell_type": "code",
   "execution_count": 73,
   "id": "d1aac64b-20ff-4b51-869e-3e72b0f1a57a",
   "metadata": {},
   "outputs": [],
   "source": [
    "# changing array\n",
    "a[1, 5] = 106"
   ]
  },
  {
   "cell_type": "code",
   "execution_count": 74,
   "id": "c858ab27-5bbb-4d80-a0ba-e1f851aee32b",
   "metadata": {},
   "outputs": [
    {
     "name": "stdout",
     "output_type": "stream",
     "text": [
      "[[  5   5   5   5   5   5   5]\n",
      " [ 30   8  45  17  20 106  62]]\n"
     ]
    }
   ],
   "source": [
    "print(a)"
   ]
  },
  {
   "cell_type": "code",
   "execution_count": 75,
   "id": "949d3f3e-6b90-4a6e-9f41-5b338814721c",
   "metadata": {},
   "outputs": [
    {
     "name": "stdout",
     "output_type": "stream",
     "text": [
      "[[  5   5   5   5   5   5   5]\n",
      " [ 30   8  45  17  20 106  62]]\n"
     ]
    }
   ],
   "source": [
    " a[0,:]=5\n",
    "print(a)"
   ]
  },
  {
   "cell_type": "code",
   "execution_count": 77,
   "id": "652cd29f-15f5-4883-bf3f-423684ff25ba",
   "metadata": {},
   "outputs": [
    {
     "name": "stdout",
     "output_type": "stream",
     "text": [
      "[[[5 6 7]\n",
      "  [2 3 4]]\n",
      "\n",
      " [[8 7 6]\n",
      "  [4 3 2]]]\n"
     ]
    }
   ],
   "source": [
    "# 3D array\n",
    "d = np.array([[[5,6,7],[2,3,4]],[[8,7,6],[4,3,2]]])\n",
    "print(d)"
   ]
  },
  {
   "cell_type": "code",
   "execution_count": 81,
   "id": "93e68dca-5441-42fb-8e1d-798a880f7224",
   "metadata": {},
   "outputs": [
    {
     "name": "stdout",
     "output_type": "stream",
     "text": [
      "3\n",
      "(2, 2, 3)\n"
     ]
    }
   ],
   "source": [
    "print(d.ndim)\n",
    "print(d.shape)\n",
    "# Shape of 3D--> [layer_index, row_index, column_index]"
   ]
  },
  {
   "cell_type": "code",
   "execution_count": 82,
   "id": "1872775e-2a97-4e7f-9cbf-28c682ded027",
   "metadata": {},
   "outputs": [
    {
     "data": {
      "text/plain": [
       "np.int64(4)"
      ]
     },
     "execution_count": 82,
     "metadata": {},
     "output_type": "execute_result"
    }
   ],
   "source": [
    "# Access in 3D\n",
    "d[0,1,2] # 4"
   ]
  },
  {
   "cell_type": "code",
   "execution_count": 86,
   "id": "b5dccc58-d743-46a5-8ad6-e8089f02d4c3",
   "metadata": {},
   "outputs": [
    {
     "name": "stdout",
     "output_type": "stream",
     "text": [
      "[[5 6 7]\n",
      " [2 3 4]]\n",
      "[[5 6 7]\n",
      " [8 7 6]]\n",
      "[[7 4]\n",
      " [6 2]]\n"
     ]
    }
   ],
   "source": [
    "print(d[0,:,:])\n",
    "print(d[:,0,:])\n",
    "print(d[:,:,2])"
   ]
  },
  {
   "cell_type": "code",
   "execution_count": 90,
   "id": "818dc313-c59b-49f2-877e-328815d694f4",
   "metadata": {},
   "outputs": [
    {
     "name": "stdout",
     "output_type": "stream",
     "text": [
      "[[6 7]\n",
      " [3 4]]\n"
     ]
    }
   ],
   "source": [
    "print(d[0,:,1:3])"
   ]
  },
  {
   "cell_type": "code",
   "execution_count": 93,
   "id": "4c9c5f62-324d-4f67-a3f9-22a398b9fee6",
   "metadata": {},
   "outputs": [
    {
     "name": "stdout",
     "output_type": "stream",
     "text": [
      "[[[ 5 10 22]\n",
      "  [ 2 90 72]]\n",
      "\n",
      " [[ 8  7  6]\n",
      "  [ 4  3  2]]]\n"
     ]
    }
   ],
   "source": [
    "# replace\n",
    "d[0,:,1:3] = [[10, 22],[90, 72]]\n",
    "print(d)"
   ]
  },
  {
   "cell_type": "markdown",
   "id": "4cbc01ce-5069-4612-942d-c92300d959bc",
   "metadata": {},
   "source": [
    "##  Different type of array"
   ]
  },
  {
   "cell_type": "code",
   "execution_count": 95,
   "id": "370d44fa-1dbd-48a7-8da3-6d5bd7cd2ffe",
   "metadata": {},
   "outputs": [
    {
     "data": {
      "text/plain": [
       "array([[[0., 0., 0., 0.],\n",
       "        [0., 0., 0., 0.],\n",
       "        [0., 0., 0., 0.]],\n",
       "\n",
       "       [[0., 0., 0., 0.],\n",
       "        [0., 0., 0., 0.],\n",
       "        [0., 0., 0., 0.]]])"
      ]
     },
     "execution_count": 95,
     "metadata": {},
     "output_type": "execute_result"
    }
   ],
   "source": [
    "# All 0's matrix\n",
    "np.zeros((2,3,4))"
   ]
  },
  {
   "cell_type": "code",
   "execution_count": 98,
   "id": "823ce955-405f-4e60-9925-9828f0e0ce6a",
   "metadata": {},
   "outputs": [
    {
     "data": {
      "text/plain": [
       "array([[1, 1, 1],\n",
       "       [1, 1, 1]], dtype=int32)"
      ]
     },
     "execution_count": 98,
     "metadata": {},
     "output_type": "execute_result"
    }
   ],
   "source": [
    "# All one's matrix\n",
    "np.ones((2,3), dtype = 'int32')"
   ]
  },
  {
   "cell_type": "code",
   "execution_count": 99,
   "id": "b4227dfd-4f12-4c4d-9c4e-1d0386ad1874",
   "metadata": {},
   "outputs": [
    {
     "data": {
      "text/plain": [
       "array([[12, 12],\n",
       "       [12, 12]])"
      ]
     },
     "execution_count": 99,
     "metadata": {},
     "output_type": "execute_result"
    }
   ],
   "source": [
    "# Any Number\n",
    "np.full((2,2),12)"
   ]
  },
  {
   "cell_type": "code",
   "execution_count": 103,
   "id": "10f3269d-a65b-4124-a5d0-f8abe351b996",
   "metadata": {},
   "outputs": [
    {
     "data": {
      "text/plain": [
       "array([[4, 4, 4, 4, 4, 4, 4],\n",
       "       [4, 4, 4, 4, 4, 4, 4]])"
      ]
     },
     "execution_count": 103,
     "metadata": {},
     "output_type": "execute_result"
    }
   ],
   "source": [
    "# Like array\n",
    "np.full_like(a, 4)"
   ]
  },
  {
   "cell_type": "code",
   "execution_count": 108,
   "id": "776ae05d-0bae-4bf5-851c-04d4de943f95",
   "metadata": {},
   "outputs": [
    {
     "data": {
      "text/plain": [
       "array([[0.90756815, 0.40944479],\n",
       "       [0.97419688, 0.28397172],\n",
       "       [0.01771366, 0.89415807],\n",
       "       [0.17463183, 0.30015739],\n",
       "       [0.97427009, 0.41045724],\n",
       "       [0.84040728, 0.71087205],\n",
       "       [0.01690114, 0.37650385],\n",
       "       [0.38713953, 0.38866548]])"
      ]
     },
     "execution_count": 108,
     "metadata": {},
     "output_type": "execute_result"
    }
   ],
   "source": [
    "# Random decimal numbers\n",
    "np.random.rand(8,2)"
   ]
  },
  {
   "cell_type": "code",
   "execution_count": 112,
   "id": "5e5718c2-e89e-4ad0-8b1a-7490283e48f4",
   "metadata": {},
   "outputs": [
    {
     "data": {
      "text/plain": [
       "array([[0.09065152, 0.15962878, 0.26712476, 0.69154484, 0.77103611,\n",
       "        0.32909323, 0.41913251],\n",
       "       [0.38058213, 0.65581046, 0.48521173, 0.55755336, 0.33397679,\n",
       "        0.23877164, 0.35805737]])"
      ]
     },
     "execution_count": 112,
     "metadata": {},
     "output_type": "execute_result"
    }
   ],
   "source": [
    "np.random.random_sample(a.shape)"
   ]
  },
  {
   "cell_type": "code",
   "execution_count": 119,
   "id": "0d7fe299-01cd-4c48-a8a9-2eed4e0c1e71",
   "metadata": {},
   "outputs": [
    {
     "data": {
      "text/plain": [
       "81"
      ]
     },
     "execution_count": 119,
     "metadata": {},
     "output_type": "execute_result"
    }
   ],
   "source": [
    "# random integer values (start, stop)\n",
    "np.random.randint(72,90)\n"
   ]
  },
  {
   "cell_type": "code",
   "execution_count": 122,
   "id": "4ff73c70-8b56-4afa-98e4-7afa10f73dbb",
   "metadata": {},
   "outputs": [
    {
     "data": {
      "text/plain": [
       "array([[ 9, 11],\n",
       "       [ 6,  6],\n",
       "       [ 6,  0]], dtype=int32)"
      ]
     },
     "execution_count": 122,
     "metadata": {},
     "output_type": "execute_result"
    }
   ],
   "source": [
    "np.random.randint(12,size=(3,2))"
   ]
  },
  {
   "cell_type": "code",
   "execution_count": 124,
   "id": "9a89a526-6137-4322-8c41-aacc172e9daa",
   "metadata": {},
   "outputs": [
    {
     "data": {
      "text/plain": [
       "array([[1., 0., 0., 0., 0., 0., 0.],\n",
       "       [0., 1., 0., 0., 0., 0., 0.],\n",
       "       [0., 0., 1., 0., 0., 0., 0.],\n",
       "       [0., 0., 0., 1., 0., 0., 0.],\n",
       "       [0., 0., 0., 0., 1., 0., 0.],\n",
       "       [0., 0., 0., 0., 0., 1., 0.],\n",
       "       [0., 0., 0., 0., 0., 0., 1.]])"
      ]
     },
     "execution_count": 124,
     "metadata": {},
     "output_type": "execute_result"
    }
   ],
   "source": [
    "# Identity\n",
    "np.identity(7)"
   ]
  },
  {
   "cell_type": "code",
   "execution_count": 133,
   "id": "6e7c8e05-b4da-4d41-897d-5cd4c99aa93e",
   "metadata": {},
   "outputs": [
    {
     "name": "stdout",
     "output_type": "stream",
     "text": [
      "[[4 5 6]\n",
      " [4 5 6]\n",
      " [4 5 6]]\n"
     ]
    }
   ],
   "source": [
    "# repeat array\n",
    "arr = np.array([[4,5,6]])\n",
    "r1 = np.repeat(arr, 3, axis = 0)\n",
    "print(r1)"
   ]
  },
  {
   "cell_type": "code",
   "execution_count": 136,
   "id": "3022a0f2-eba8-4440-bda5-76741cfbf471",
   "metadata": {},
   "outputs": [
    {
     "name": "stdout",
     "output_type": "stream",
     "text": [
      "[[1 1 1 1 1]\n",
      " [1 0 0 0 1]\n",
      " [1 0 9 0 1]\n",
      " [1 0 0 0 1]\n",
      " [1 1 1 1 1]]\n"
     ]
    }
   ],
   "source": [
    "s = np.array([[1,1,1,1,1],[1,0,0,0,1],[1,0,9,0,1],[1,0,0,0,1],[1,1,1,1,1]])\n",
    "print(s)"
   ]
  },
  {
   "cell_type": "code",
   "execution_count": 142,
   "id": "5f069af3-d5c3-4051-b520-e5cea75e8694",
   "metadata": {},
   "outputs": [
    {
     "name": "stdout",
     "output_type": "stream",
     "text": [
      "[[1. 1. 1. 1. 1.]\n",
      " [1. 1. 1. 1. 1.]\n",
      " [1. 1. 1. 1. 1.]\n",
      " [1. 1. 1. 1. 1.]\n",
      " [1. 1. 1. 1. 1.]]\n",
      "[[0. 0. 0.]\n",
      " [0. 9. 0.]\n",
      " [0. 0. 0.]]\n"
     ]
    }
   ],
   "source": [
    "output = np.ones((5,5))\n",
    "print(output)\n",
    "\n",
    "z = np.zeros((3,3))\n",
    "z[1,1] = 9\n",
    "print(z)"
   ]
  },
  {
   "cell_type": "code",
   "execution_count": 145,
   "id": "f6d3858c-5826-45e4-ae1b-64710d5dda54",
   "metadata": {},
   "outputs": [
    {
     "name": "stdout",
     "output_type": "stream",
     "text": [
      "[[1. 1. 1. 1. 1.]\n",
      " [1. 0. 0. 0. 1.]\n",
      " [1. 0. 9. 0. 1.]\n",
      " [1. 0. 0. 0. 1.]\n",
      " [1. 1. 1. 1. 1.]]\n"
     ]
    }
   ],
   "source": [
    "output [1:4,1:4] = z # [1:-1,1:-1]\n",
    "print(output)"
   ]
  },
  {
   "cell_type": "markdown",
   "id": "8c4416aa-cdbb-4460-bb26-2d174c965c53",
   "metadata": {},
   "source": [
    "## When coping arrays !!!"
   ]
  },
  {
   "cell_type": "code",
   "execution_count": 146,
   "id": "9c93bc9c-a0b0-4edd-81a6-c01f3db4f892",
   "metadata": {},
   "outputs": [
    {
     "name": "stdout",
     "output_type": "stream",
     "text": [
      "[  1 100   3]\n",
      "[  1 100   3]\n"
     ]
    }
   ],
   "source": [
    "a = np.array([1,2,3])\n",
    "b= a\n",
    "b[1]= 100\n",
    "print(b)\n",
    "print(a)"
   ]
  },
  {
   "cell_type": "code",
   "execution_count": 147,
   "id": "7bfb6d79-c08d-4f3c-96ad-ede6cd0db6d5",
   "metadata": {},
   "outputs": [
    {
     "name": "stdout",
     "output_type": "stream",
     "text": [
      "[  1 100   3]\n",
      "[1 2 3]\n"
     ]
    }
   ],
   "source": [
    "a = np.array([1,2,3])\n",
    "b= a.copy()\n",
    "b[1]= 100 \n",
    "print(b)\n",
    "print(a)"
   ]
  },
  {
   "cell_type": "markdown",
   "id": "449f5b2f-9c47-4419-a670-3d3814a6d5e4",
   "metadata": {},
   "source": [
    "## Arithmetics\n"
   ]
  },
  {
   "cell_type": "code",
   "execution_count": 150,
   "id": "352a3b23-1942-4a63-af6e-50acc4fdc51a",
   "metadata": {},
   "outputs": [
    {
     "data": {
      "text/plain": [
       "array([3, 4, 5])"
      ]
     },
     "execution_count": 150,
     "metadata": {},
     "output_type": "execute_result"
    }
   ],
   "source": [
    "a + 2"
   ]
  },
  {
   "cell_type": "code",
   "execution_count": 151,
   "id": "18d348cd-d432-4a34-910e-2e155f8a95f4",
   "metadata": {},
   "outputs": [
    {
     "data": {
      "text/plain": [
       "array([-1,  0,  1])"
      ]
     },
     "execution_count": 151,
     "metadata": {},
     "output_type": "execute_result"
    }
   ],
   "source": [
    "a - 2"
   ]
  },
  {
   "cell_type": "code",
   "execution_count": 152,
   "id": "dcccded5-d15c-4aa3-ae2a-02c0f9d74a5d",
   "metadata": {},
   "outputs": [
    {
     "data": {
      "text/plain": [
       "array([2, 4, 6])"
      ]
     },
     "execution_count": 152,
     "metadata": {},
     "output_type": "execute_result"
    }
   ],
   "source": [
    "a * 2"
   ]
  },
  {
   "cell_type": "code",
   "execution_count": 153,
   "id": "6d3167ae-baf9-4694-a00a-b010bb15f9c0",
   "metadata": {},
   "outputs": [
    {
     "data": {
      "text/plain": [
       "array([0.5, 1. , 1.5])"
      ]
     },
     "execution_count": 153,
     "metadata": {},
     "output_type": "execute_result"
    }
   ],
   "source": [
    "a/2\n"
   ]
  },
  {
   "cell_type": "code",
   "execution_count": 157,
   "id": "1429ed4e-36e3-46a9-b3cd-007f39ccbb2e",
   "metadata": {},
   "outputs": [
    {
     "data": {
      "text/plain": [
       "array([5, 7, 9])"
      ]
     },
     "execution_count": 157,
     "metadata": {},
     "output_type": "execute_result"
    }
   ],
   "source": [
    "b= np.array([4,5,6])\n",
    "a+b"
   ]
  },
  {
   "cell_type": "code",
   "execution_count": 158,
   "id": "80fed357-6a3d-4073-9f9d-febd41b04178",
   "metadata": {},
   "outputs": [
    {
     "data": {
      "text/plain": [
       "array([  4,  25, 216])"
      ]
     },
     "execution_count": 158,
     "metadata": {},
     "output_type": "execute_result"
    }
   ],
   "source": [
    "b**a"
   ]
  },
  {
   "cell_type": "code",
   "execution_count": 160,
   "id": "b229e87e-42e7-4783-baa9-a1da42dd3b95",
   "metadata": {},
   "outputs": [
    {
     "data": {
      "text/plain": [
       "array([16, 25, 36])"
      ]
     },
     "execution_count": 160,
     "metadata": {},
     "output_type": "execute_result"
    }
   ],
   "source": [
    "b**2"
   ]
  },
  {
   "cell_type": "code",
   "execution_count": 161,
   "id": "d473df03-cb1f-40b3-9446-f2c9bd5e3b7a",
   "metadata": {},
   "outputs": [
    {
     "data": {
      "text/plain": [
       "array([0.84147098, 0.90929743, 0.14112001])"
      ]
     },
     "execution_count": 161,
     "metadata": {},
     "output_type": "execute_result"
    }
   ],
   "source": [
    "# sine\n",
    "np.sin(a)"
   ]
  },
  {
   "cell_type": "markdown",
   "id": "6859bdad-2ff7-4510-94f4-662fde2ec3b0",
   "metadata": {},
   "source": [
    "#### Linear Algebra"
   ]
  },
  {
   "cell_type": "code",
   "execution_count": 165,
   "id": "9c10b917-1a72-4c9e-b1d9-d65882ed763a",
   "metadata": {},
   "outputs": [
    {
     "name": "stdout",
     "output_type": "stream",
     "text": [
      "[[1. 1. 1.]\n",
      " [1. 1. 1.]]\n",
      "[[2 2]\n",
      " [2 2]\n",
      " [2 2]]\n"
     ]
    },
    {
     "data": {
      "text/plain": [
       "array([[6., 6.],\n",
       "       [6., 6.]])"
      ]
     },
     "execution_count": 165,
     "metadata": {},
     "output_type": "execute_result"
    }
   ],
   "source": [
    "a = np.ones((2,3))\n",
    "print(a)\n",
    "b = np.full((3,2),2)\n",
    "print(b)\n",
    "np.matmul(a,b)"
   ]
  },
  {
   "cell_type": "code",
   "execution_count": 170,
   "id": "91d4e24e-eaa4-490a-a8c5-033352674481",
   "metadata": {},
   "outputs": [
    {
     "data": {
      "text/plain": [
       "np.float64(1.0)"
      ]
     },
     "execution_count": 170,
     "metadata": {},
     "output_type": "execute_result"
    }
   ],
   "source": [
    "# Find Determinant\n",
    "c = np.identity(3)\n",
    "np.linalg.det(c)"
   ]
  },
  {
   "cell_type": "code",
   "execution_count": 180,
   "id": "a20bf7bf-ba31-479a-975d-562c4f5e6c59",
   "metadata": {},
   "outputs": [
    {
     "data": {
      "text/plain": [
       "array([[1., 0., 0.],\n",
       "       [0., 1., 0.],\n",
       "       [0., 0., 1.]])"
      ]
     },
     "execution_count": 180,
     "metadata": {},
     "output_type": "execute_result"
    }
   ],
   "source": [
    "# Inverse\n",
    "np.linalg.inv(c)"
   ]
  },
  {
   "cell_type": "code",
   "execution_count": 187,
   "id": "c9b0530e-beeb-436b-8cd0-617df7eb7c61",
   "metadata": {},
   "outputs": [
    {
     "name": "stdout",
     "output_type": "stream",
     "text": [
      "[[8 3 6]\n",
      " [4 2 9]\n",
      " [0 3 6]]\n"
     ]
    }
   ],
   "source": [
    "new = np.random.randint(10, size=(3,3))\n",
    "print(new)"
   ]
  },
  {
   "cell_type": "code",
   "execution_count": 189,
   "id": "0140909a-4d5b-41b2-b558-466515e7ea59",
   "metadata": {},
   "outputs": [
    {
     "data": {
      "text/plain": [
       "array([[8, 4, 0],\n",
       "       [3, 2, 3],\n",
       "       [6, 9, 6]], dtype=int32)"
      ]
     },
     "execution_count": 189,
     "metadata": {},
     "output_type": "execute_result"
    }
   ],
   "source": [
    "# Transpose of Matrix\n",
    "np.linalg.matrix_transpose(new)"
   ]
  },
  {
   "cell_type": "markdown",
   "id": "c3c24327-13fd-4fb0-b1d0-01ffe3b1f4af",
   "metadata": {},
   "source": [
    "## Statistics"
   ]
  },
  {
   "cell_type": "code",
   "execution_count": 193,
   "id": "0cc57eed-3d28-4e22-9726-e41dc261024c",
   "metadata": {},
   "outputs": [],
   "source": [
    "n = np.array([[2,3,4],[5,6,7]])"
   ]
  },
  {
   "cell_type": "code",
   "execution_count": 194,
   "id": "36670e9c-3c54-46df-99e7-ff1aa1de26be",
   "metadata": {},
   "outputs": [
    {
     "data": {
      "text/plain": [
       "np.int64(2)"
      ]
     },
     "execution_count": 194,
     "metadata": {},
     "output_type": "execute_result"
    }
   ],
   "source": [
    "np.min(n)"
   ]
  },
  {
   "cell_type": "code",
   "execution_count": 195,
   "id": "635aafef-cb5f-4783-9271-51eb0342e33a",
   "metadata": {},
   "outputs": [
    {
     "data": {
      "text/plain": [
       "np.int64(7)"
      ]
     },
     "execution_count": 195,
     "metadata": {},
     "output_type": "execute_result"
    }
   ],
   "source": [
    "np.max(n)"
   ]
  },
  {
   "cell_type": "code",
   "execution_count": 197,
   "id": "10d24481-9372-4c75-a3bc-0ca446bc3b05",
   "metadata": {},
   "outputs": [
    {
     "data": {
      "text/plain": [
       "array([4, 7])"
      ]
     },
     "execution_count": 197,
     "metadata": {},
     "output_type": "execute_result"
    }
   ],
   "source": [
    "np.max(n, axis = 1)"
   ]
  },
  {
   "cell_type": "code",
   "execution_count": 202,
   "id": "b635b812-9b7a-4da5-9edb-accb0e1a9678",
   "metadata": {},
   "outputs": [
    {
     "data": {
      "text/plain": [
       "array([ 7,  9, 11])"
      ]
     },
     "execution_count": 202,
     "metadata": {},
     "output_type": "execute_result"
    }
   ],
   "source": [
    "np.sum(n, axis= 0)"
   ]
  },
  {
   "cell_type": "markdown",
   "id": "ea0926ff-a0e3-4d57-bc2a-8852bc64d294",
   "metadata": {},
   "source": [
    "## reshape"
   ]
  },
  {
   "cell_type": "code",
   "execution_count": 217,
   "id": "b372b949-d805-4bf6-9236-c7f7dcf240a1",
   "metadata": {},
   "outputs": [
    {
     "data": {
      "text/plain": [
       "array([[ 1,  2,  3,  5],\n",
       "       [10, 12, 13, 14]])"
      ]
     },
     "execution_count": 217,
     "metadata": {},
     "output_type": "execute_result"
    }
   ],
   "source": [
    "b = np.array([[1,2,3,5],[10,12,13,14]])\n",
    "b"
   ]
  },
  {
   "cell_type": "code",
   "execution_count": 221,
   "id": "6d626b96-9467-4a14-a748-0a73df5c7f14",
   "metadata": {},
   "outputs": [],
   "source": [
    "e = b.reshape((2,2,2))"
   ]
  },
  {
   "cell_type": "code",
   "execution_count": 222,
   "id": "7cb29930-d50c-4448-8936-d39d400aff29",
   "metadata": {},
   "outputs": [
    {
     "name": "stdout",
     "output_type": "stream",
     "text": [
      "[[[ 1  2]\n",
      "  [ 3  5]]\n",
      "\n",
      " [[10 12]\n",
      "  [13 14]]]\n"
     ]
    }
   ],
   "source": [
    "print(e)"
   ]
  },
  {
   "cell_type": "code",
   "execution_count": 223,
   "id": "7fb53959-3771-4d47-a1d9-40548c01c5ab",
   "metadata": {},
   "outputs": [
    {
     "data": {
      "text/plain": [
       "array([[ 1,  2,  3,  5],\n",
       "       [10, 12, 13, 14],\n",
       "       [ 9,  9,  9,  9]])"
      ]
     },
     "execution_count": 223,
     "metadata": {},
     "output_type": "execute_result"
    }
   ],
   "source": [
    "# vertical stack\n",
    "r = np.array([9,9,9,9])\n",
    "np.vstack([b,r])"
   ]
  },
  {
   "cell_type": "code",
   "execution_count": 224,
   "id": "581e4ea3-cd0c-4e12-ad0c-b6aea49a1af3",
   "metadata": {},
   "outputs": [
    {
     "data": {
      "text/plain": [
       "array([[1., 1., 1., 0., 0.],\n",
       "       [1., 1., 1., 0., 0.]])"
      ]
     },
     "execution_count": 224,
     "metadata": {},
     "output_type": "execute_result"
    }
   ],
   "source": [
    "# horizontal stack\n",
    "h1 = np.ones((2,3))\n",
    "h2 = np.zeros((2,2))\n",
    "\n",
    "np.hstack((h1,h2))"
   ]
  },
  {
   "cell_type": "code",
   "execution_count": 225,
   "id": "28402d07-779e-42d3-9954-6321bde68ae4",
   "metadata": {},
   "outputs": [
    {
     "data": {
      "text/plain": [
       "array([[1., 1., 1., 0., 0., 1., 1., 1.],\n",
       "       [1., 1., 1., 0., 0., 1., 1., 1.]])"
      ]
     },
     "execution_count": 225,
     "metadata": {},
     "output_type": "execute_result"
    }
   ],
   "source": [
    "np.hstack((h1,h2,h1))"
   ]
  },
  {
   "cell_type": "code",
   "execution_count": null,
   "id": "b5b4cf6b-b657-45e9-a877-30c0ba7e169f",
   "metadata": {},
   "outputs": [],
   "source": []
  }
 ],
 "metadata": {
  "kernelspec": {
   "display_name": "Python 3 (ipykernel)",
   "language": "python",
   "name": "python3"
  },
  "language_info": {
   "codemirror_mode": {
    "name": "ipython",
    "version": 3
   },
   "file_extension": ".py",
   "mimetype": "text/x-python",
   "name": "python",
   "nbconvert_exporter": "python",
   "pygments_lexer": "ipython3",
   "version": "3.13.1"
  }
 },
 "nbformat": 4,
 "nbformat_minor": 5
}
